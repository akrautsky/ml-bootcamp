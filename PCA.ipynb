{
  "nbformat": 4,
  "nbformat_minor": 0,
  "metadata": {
    "colab": {
      "provenance": [],
      "collapsed_sections": [],
      "authorship_tag": "ABX9TyMsOzXrljUpFYT/kE0JUwT1",
      "include_colab_link": true
    },
    "kernelspec": {
      "name": "python3",
      "display_name": "Python 3"
    },
    "language_info": {
      "name": "python"
    }
  },
  "cells": [
    {
      "cell_type": "markdown",
      "metadata": {
        "id": "view-in-github",
        "colab_type": "text"
      },
      "source": [
        "<a href=\"https://colab.research.google.com/github/akrautsky/ml-bootcamp/blob/main/PCA.ipynb\" target=\"_parent\"><img src=\"https://colab.research.google.com/assets/colab-badge.svg\" alt=\"Open In Colab\"/></a>"
      ]
    },
    {
      "cell_type": "code",
      "execution_count": 1,
      "metadata": {
        "id": "j_DrW9DJXVEx"
      },
      "outputs": [],
      "source": [
        "from sklearn.datasets import load_digits"
      ]
    },
    {
      "cell_type": "code",
      "source": [
        "X = load_digits().data\n",
        "y = load_digits().target"
      ],
      "metadata": {
        "id": "t9W9SENYbSe_"
      },
      "execution_count": 9,
      "outputs": []
    },
    {
      "cell_type": "code",
      "source": [
        "# normalize the data\n",
        "X = X/16."
      ],
      "metadata": {
        "id": "ixnDS1UgbVkB"
      },
      "execution_count": 12,
      "outputs": []
    },
    {
      "cell_type": "code",
      "source": [
        "# split the data\n",
        "from sklearn.model_selection import train_test_split\n",
        "X_train, X_test, y_train, y_test = train_test_split(X, y, test_size= 0.2, random_state=42)"
      ],
      "metadata": {
        "id": "AnOzTtABbn_d"
      },
      "execution_count": 13,
      "outputs": []
    },
    {
      "cell_type": "code",
      "source": [
        "len(X_train), len(X_test), len(y_train), len(y_test)"
      ],
      "metadata": {
        "colab": {
          "base_uri": "https://localhost:8080/"
        },
        "id": "__wTwIvMceUZ",
        "outputId": "0f2d74fe-2c37-4679-8fb7-8835efc1f913"
      },
      "execution_count": 14,
      "outputs": [
        {
          "output_type": "execute_result",
          "data": {
            "text/plain": [
              "(1437, 360, 1437, 360)"
            ]
          },
          "metadata": {},
          "execution_count": 14
        }
      ]
    },
    {
      "cell_type": "code",
      "source": [
        "X_train[0].shape"
      ],
      "metadata": {
        "colab": {
          "base_uri": "https://localhost:8080/"
        },
        "id": "kP52k5VLdWCF",
        "outputId": "ae87c115-539b-40cf-c26d-e7439e4099d0"
      },
      "execution_count": 15,
      "outputs": [
        {
          "output_type": "execute_result",
          "data": {
            "text/plain": [
              "(64,)"
            ]
          },
          "metadata": {},
          "execution_count": 15
        }
      ]
    },
    {
      "cell_type": "code",
      "source": [
        "# lets plot some random values here\n",
        "import matplotlib.pyplot as plt\n",
        "import numpy as np\n",
        "import random\n",
        "\n",
        "plt.figure(figsize=(10,10))\n",
        "\n",
        "for i in range(5):\n",
        "  random_index = np.random.choice(np.arange(len(X_train)))\n",
        "  plt.subplot(1, 5, i+1)\n",
        "  plt.imshow(X_train[random_index].reshape(8,8))\n",
        "  plt.axis(False)\n",
        "  plt.grid(True)\n",
        "  plt.title(y_train[random_index])\n",
        "\n",
        "plt.plot();\n",
        "\n"
      ],
      "metadata": {
        "colab": {
          "base_uri": "https://localhost:8080/",
          "height": 143
        },
        "id": "lNPVEaWsci2T",
        "outputId": "bd832d30-391a-4aa2-fc5b-7fd6fb7dd8ad"
      },
      "execution_count": 17,
      "outputs": [
        {
          "output_type": "display_data",
          "data": {
            "text/plain": [
              "<Figure size 720x720 with 5 Axes>"
            ],
            "image/png": "[encoded data removed]"
          },
          "metadata": {
            "needs_background": "light"
          }
        }
      ]
    },
    {
      "cell_type": "code",
      "source": [
        "import time\n",
        "from sklearn.metrics import accuracy_score"
      ],
      "metadata": {
        "id": "OE_jf8AZdpLv"
      },
      "execution_count": 27,
      "outputs": []
    },
    {
      "cell_type": "code",
      "source": [
        "# Use Random forest tree to classify these digits and time it with original diamentions\n",
        "from sklearn.ensemble import RandomForestClassifier\n",
        "forest_clf = RandomForestClassifier(n_estimators=20, bootstrap=True, n_jobs=-1)\n"
      ],
      "metadata": {
        "id": "A7v65yhXdvgP"
      },
      "execution_count": 25,
      "outputs": []
    },
    {
      "cell_type": "code",
      "source": [
        "%time\n",
        "forest_clf.fit(X_train, y_train)"
      ],
      "metadata": {
        "colab": {
          "base_uri": "https://localhost:8080/"
        },
        "id": "h5MrmNSed6Z2",
        "outputId": "754c7220-8659-4587-bf2d-79c4daae0b02"
      },
      "execution_count": 26,
      "outputs": [
        {
          "output_type": "stream",
          "name": "stdout",
          "text": [
            "CPU times: user 4 µs, sys: 0 ns, total: 4 µs\n",
            "Wall time: 7.87 µs\n"
          ]
        },
        {
          "output_type": "execute_result",
          "data": {
            "text/plain": [
              "RandomForestClassifier(n_estimators=20, n_jobs=-1)"
            ]
          },
          "metadata": {},
          "execution_count": 26
        }
      ]
    },
    {
      "cell_type": "code",
      "source": [
        "# evaluate it on test data\n",
        "forest_preds = forest_clf.predict(X_test)\n",
        "forest_preds[:3]"
      ],
      "metadata": {
        "colab": {
          "base_uri": "https://localhost:8080/"
        },
        "id": "5YOQT4wqepeD",
        "outputId": "8bab284d-278b-4668-a7c4-6cf7445d3a74"
      },
      "execution_count": 28,
      "outputs": [
        {
          "output_type": "execute_result",
          "data": {
            "text/plain": [
              "array([6, 9, 3])"
            ]
          },
          "metadata": {},
          "execution_count": 28
        }
      ]
    },
    {
      "cell_type": "code",
      "source": [
        "forest_acc_score = accuracy_score(y_test, forest_preds)\n",
        "forest_acc_score"
      ],
      "metadata": {
        "colab": {
          "base_uri": "https://localhost:8080/"
        },
        "id": "EM2WUUJoe_ID",
        "outputId": "548d6289-ec97-4f54-882b-94e785e8eb1e"
      },
      "execution_count": 29,
      "outputs": [
        {
          "output_type": "execute_result",
          "data": {
            "text/plain": [
              "0.9666666666666667"
            ]
          },
          "metadata": {},
          "execution_count": 29
        }
      ]
    },
    {
      "cell_type": "code",
      "source": [
        "# so with original data, retaining all the features our random forest model works really good to get 97% accuracy"
      ],
      "metadata": {
        "id": "fFHC7_7ffGpW"
      },
      "execution_count": 30,
      "outputs": []
    },
    {
      "cell_type": "markdown",
      "source": [
        "#### PCA to reduce diamentions"
      ],
      "metadata": {
        "id": "b78SkUmnfPsW"
      }
    },
    {
      "cell_type": "code",
      "source": [
        "from sklearn.decomposition import PCA\n",
        "#with explained variance ration of 95%\n",
        "pca = PCA( n_components=0.95)\n",
        "X_train_reduced = pca.fit_transform(X_train)\n"
      ],
      "metadata": {
        "id": "AAS-8Fkjfhta"
      },
      "execution_count": 31,
      "outputs": []
    },
    {
      "cell_type": "code",
      "source": [
        "# check the diamentions for the new data\n",
        "X_train.shape, X_train_reduced.shape"
      ],
      "metadata": {
        "colab": {
          "base_uri": "https://localhost:8080/"
        },
        "id": "c173LzNhf7fs",
        "outputId": "b9611863-454f-41a2-e64e-fc95fbb637b4"
      },
      "execution_count": 32,
      "outputs": [
        {
          "output_type": "execute_result",
          "data": {
            "text/plain": [
              "((1437, 64), (1437, 28))"
            ]
          },
          "metadata": {},
          "execution_count": 32
        }
      ]
    },
    {
      "cell_type": "code",
      "source": [
        "# PCA reduced the diamentions from 64 to 28 only\n",
        "# Lets plot some images with original and reduced dataset to see the differenece\n",
        "random_idx = np.random.choice(np.arange(len(X_train)), size=5)\n",
        "\n",
        "plt.figure(figsize=(10,10))\n",
        "\n",
        "for idx, r_idx in enumerate(random_idx):\n",
        "  plt.subplot(1, 5, idx+1)\n",
        "  plt.imshow(X_train[r_idx].reshape(8, 8))\n",
        "  plt.axis(False)\n",
        "  plt.grid(True)\n",
        "  plt.title(y_train[r_idx])\n",
        "plt.show()\n",
        "\n",
        "plt.figure(figsize=(10,10))\n",
        "for idx, r_idx in enumerate(random_idx):\n",
        "  plt.subplot(1, 5, idx+1)\n",
        "  plt.imshow(X_train_reduced[r_idx].reshape(7, 4))\n",
        "  plt.axis(False)\n",
        "  plt.grid(True)\n",
        "  plt.title(y_train[r_idx])\n",
        "plt.show()\n"
      ],
      "metadata": {
        "colab": {
          "base_uri": "https://localhost:8080/",
          "height": 341
        },
        "id": "9khLWEqmgBmC",
        "outputId": "d417c0c0-de9e-4851-d705-75bf6dbc74b0"
      },
      "execution_count": 46,
      "outputs": [
        {
          "output_type": "display_data",
          "data": {
            "text/plain": [
              "<Figure size 720x720 with 5 Axes>"
            ],
            "image/png": "[encoded data removed]"
          },
          "metadata": {
            "needs_background": "light"
          }
        },
        {
          "output_type": "display_data",
          "data": {
            "text/plain": [
              "<Figure size 720x720 with 5 Axes>"
            ],
            "image/png": "[encoded data removed]"
          },
          "metadata": {
            "needs_background": "light"
          }
        }
      ]
    },
    {
      "cell_type": "code",
      "source": [
        "# as we can see, the PCA reduced the number of features and its very hard to interprets new dataset now"
      ],
      "metadata": {
        "id": "paDEYBtPhMA6"
      },
      "execution_count": 47,
      "outputs": []
    },
    {
      "cell_type": "code",
      "source": [
        "# lets run the RandomForestClassifier on new reduced dataset\n",
        "forest_clf_reduced = RandomForestClassifier(n_estimators=20, bootstrap=True, n_jobs=-1)\n",
        "%time\n",
        "forest_clf_reduced.fit(X_train_reduced, y_train)"
      ],
      "metadata": {
        "colab": {
          "base_uri": "https://localhost:8080/"
        },
        "id": "hAicqh6BhUEx",
        "outputId": "4812fb5f-f087-40a6-9096-c1a243e6186f"
      },
      "execution_count": 49,
      "outputs": [
        {
          "output_type": "stream",
          "name": "stdout",
          "text": [
            "CPU times: user 4 µs, sys: 0 ns, total: 4 µs\n",
            "Wall time: 8.58 µs\n"
          ]
        },
        {
          "output_type": "execute_result",
          "data": {
            "text/plain": [
              "RandomForestClassifier(n_estimators=20, n_jobs=-1)"
            ]
          },
          "metadata": {},
          "execution_count": 49
        }
      ]
    },
    {
      "cell_type": "code",
      "source": [
        "# evaluate the model\n",
        "X_test_reduced = pca.transform(X_test)\n",
        "forest_preds_reduced = forest_clf_reduced.predict(X_test_reduced)\n",
        "acc_score_reduced = accuracy_score(y_test, forest_preds_reduced)\n",
        "acc_score_reduced"
      ],
      "metadata": {
        "colab": {
          "base_uri": "https://localhost:8080/"
        },
        "id": "RQNn15ckiRmb",
        "outputId": "5f7f4e07-419a-4b82-c17e-f5a7d16151a8"
      },
      "execution_count": 51,
      "outputs": [
        {
          "output_type": "execute_result",
          "data": {
            "text/plain": [
              "0.95"
            ]
          },
          "metadata": {},
          "execution_count": 51
        }
      ]
    },
    {
      "cell_type": "code",
      "source": [
        "# so the model on original data outperform the pca not with major margin"
      ],
      "metadata": {
        "id": "QMfsBTQQkO9q"
      },
      "execution_count": 52,
      "outputs": []
    },
    {
      "cell_type": "markdown",
      "source": [
        "#### t-SNE"
      ],
      "metadata": {
        "id": "mM7IiR2ckeKl"
      }
    },
    {
      "cell_type": "code",
      "source": [
        "from sklearn.manifold import TSNE\n",
        "tsne = TSNE() # reduced the data to default 2 diamentions\n",
        "X_train_tsne = tsne.fit_transform(X_train)\n"
      ],
      "metadata": {
        "colab": {
          "base_uri": "https://localhost:8080/"
        },
        "id": "KKUyVe2vmDlZ",
        "outputId": "ec40b1a0-5711-4724-ff10-9822ee7eef08"
      },
      "execution_count": 53,
      "outputs": [
        {
          "output_type": "stream",
          "name": "stderr",
          "text": [
            "/usr/local/lib/python3.7/dist-packages/sklearn/manifold/_t_sne.py:783: FutureWarning: The default initialization in TSNE will change from 'random' to 'pca' in 1.2.\n",
            "  FutureWarning,\n",
            "/usr/local/lib/python3.7/dist-packages/sklearn/manifold/_t_sne.py:793: FutureWarning: The default learning rate in TSNE will change from 200.0 to 'auto' in 1.2.\n",
            "  FutureWarning,\n"
          ]
        }
      ]
    },
    {
      "cell_type": "code",
      "source": [
        "X_train_tsne.shape"
      ],
      "metadata": {
        "colab": {
          "base_uri": "https://localhost:8080/"
        },
        "id": "H0cW6UbCmVyY",
        "outputId": "bcb4415f-789d-4180-c7c4-52d8cc7d4b01"
      },
      "execution_count": 54,
      "outputs": [
        {
          "output_type": "execute_result",
          "data": {
            "text/plain": [
              "(1437, 2)"
            ]
          },
          "metadata": {},
          "execution_count": 54
        }
      ]
    },
    {
      "cell_type": "code",
      "source": [
        "# lets plot the new dataset to see if it sepates the classes\n",
        "plt.scatter(X_train_tsne[:, 0], X_train_tsne[:, 1], c=y_train)\n",
        "plt.xticks(ticks= None )\n",
        "plt.grid(True)\n",
        "plt.show()"
      ],
      "metadata": {
        "colab": {
          "base_uri": "https://localhost:8080/",
          "height": 265
        },
        "id": "eZPkVa-6mk_h",
        "outputId": "7ce2c447-015b-4125-9a8a-9967afe4ef84"
      },
      "execution_count": 60,
      "outputs": [
        {
          "output_type": "display_data",
          "data": {
            "text/plain": [
              "<Figure size 432x288 with 1 Axes>"
            ],
            "image/png": "[encoded data removed]"
          },
          "metadata": {
            "needs_background": "light"
          }
        }
      ]
    },
    {
      "cell_type": "code",
      "source": [
        "# lets run forest with new data from tsne\n",
        "forest_clf_sne = RandomForestClassifier(n_estimators=20, bootstrap=True, n_jobs=-1)\n",
        "%time\n",
        "forest_clf_sne.fit(X_train_tsne, y_train)"
      ],
      "metadata": {
        "colab": {
          "base_uri": "https://localhost:8080/"
        },
        "id": "dtbAz_jLm16k",
        "outputId": "ee003710-a6be-4180-e278-4579b2328793"
      },
      "execution_count": 61,
      "outputs": [
        {
          "output_type": "stream",
          "name": "stdout",
          "text": [
            "CPU times: user 4 µs, sys: 0 ns, total: 4 µs\n",
            "Wall time: 9.06 µs\n"
          ]
        },
        {
          "output_type": "execute_result",
          "data": {
            "text/plain": [
              "RandomForestClassifier(n_estimators=20, n_jobs=-1)"
            ]
          },
          "metadata": {},
          "execution_count": 61
        }
      ]
    },
    {
      "cell_type": "code",
      "source": [],
      "metadata": {
        "id": "h-FoDyHRn6ea"
      },
      "execution_count": 62,
      "outputs": []
    },
    {
      "cell_type": "code",
      "source": [],
      "metadata": {
        "id": "9IMzRjz-oUJ8"
      },
      "execution_count": null,
      "outputs": []
    }
  ]
}