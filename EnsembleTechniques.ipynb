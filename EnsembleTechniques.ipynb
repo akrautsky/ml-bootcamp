{
  "nbformat": 4,
  "nbformat_minor": 0,
  "metadata": {
    "colab": {
      "provenance": [],
      "authorship_tag": "ABX9TyN5o3GnEYcWoODHOvsPGxn8",
      "include_colab_link": true
    },
    "kernelspec": {
      "name": "python3",
      "display_name": "Python 3"
    },
    "language_info": {
      "name": "python"
    },
    "accelerator": "GPU",
    "gpuClass": "standard"
  },
  "cells": [
    {
      "cell_type": "markdown",
      "metadata": {
        "id": "view-in-github",
        "colab_type": "text"
      },
      "source": [
        "<a href=\"https://colab.research.google.com/github/akrautsky/ml-bootcamp/blob/main/EnsembleTechniques.ipynb\" target=\"_parent\"><img src=\"https://colab.research.google.com/assets/colab-badge.svg\" alt=\"Open In Colab\"/></a>"
      ]
    },
    {
      "cell_type": "code",
      "execution_count": null,
      "metadata": {
        "id": "hkBxsbrGvur6"
      },
      "outputs": [],
      "source": [
        "from sklearn.datasets import make_moons\n",
        "from sklearn.model_selection import train_test_split"
      ]
    },
    {
      "cell_type": "code",
      "source": [
        "X, y = make_moons( n_samples=1000, shuffle=True, noise=0.3, random_state=42 )"
      ],
      "metadata": {
        "id": "DNa-mSscv_-9"
      },
      "execution_count": null,
      "outputs": []
    },
    {
      "cell_type": "code",
      "source": [
        "X_train, X_test, y_train, y_test = train_test_split(X, y , test_size=0.2, random_state=42)"
      ],
      "metadata": {
        "id": "W_qsuzRIwXY1"
      },
      "execution_count": null,
      "outputs": []
    },
    {
      "cell_type": "code",
      "source": [
        "len(X_train), len(y_train)"
      ],
      "metadata": {
        "colab": {
          "base_uri": "https://localhost:8080/"
        },
        "id": "BUSj9fSYwg7B",
        "outputId": "8dc566ae-7d4c-4259-8b88-d1ba30fb2dd8"
      },
      "execution_count": null,
      "outputs": [
        {
          "output_type": "execute_result",
          "data": {
            "text/plain": [
              "(800, 800)"
            ]
          },
          "metadata": {},
          "execution_count": 23
        }
      ]
    },
    {
      "cell_type": "code",
      "source": [
        "X_train[:5, :]"
      ],
      "metadata": {
        "colab": {
          "base_uri": "https://localhost:8080/"
        },
        "id": "XUtFjvddwjck",
        "outputId": "105f7b7f-812e-444a-c3a8-fb6d26b62ec7"
      },
      "execution_count": null,
      "outputs": [
        {
          "output_type": "execute_result",
          "data": {
            "text/plain": [
              "array([[ 2.23604306,  0.47050357],\n",
              "       [-1.35126768,  0.42639702],\n",
              "       [-0.27826163,  1.2588558 ],\n",
              "       [-0.0366919 ,  0.97971677],\n",
              "       [ 0.40385756, -0.10326387]])"
            ]
          },
          "metadata": {},
          "execution_count": 24
        }
      ]
    },
    {
      "cell_type": "markdown",
      "source": [
        "### Try our fist ensemble with different predictors on the make moon data"
      ],
      "metadata": {
        "id": "csxWKy-dxSec"
      }
    },
    {
      "cell_type": "code",
      "source": [
        "from sklearn.linear_model import LogisticRegression\n",
        "from sklearn.svm import SVC\n",
        "from sklearn.ensemble import RandomForestClassifier\n",
        "from sklearn.ensemble import VotingClassifier"
      ],
      "metadata": {
        "id": "DM2MUEaWwn78"
      },
      "execution_count": null,
      "outputs": []
    },
    {
      "cell_type": "code",
      "source": [
        "linear_clf = LogisticRegression()\n",
        "svc_clf = SVC()\n",
        "rf_clf = RandomForestClassifier()"
      ],
      "metadata": {
        "id": "_zJTjNtfxw-A"
      },
      "execution_count": null,
      "outputs": []
    },
    {
      "cell_type": "code",
      "source": [
        "voting_clf = VotingClassifier([('linear_clf', linear_clf), ('svc', svc_clf), ('RF', rf_clf)], voting='hard')"
      ],
      "metadata": {
        "id": "denbXy2txRli"
      },
      "execution_count": null,
      "outputs": []
    },
    {
      "cell_type": "code",
      "source": [
        "# fit the ensemble on the data\n",
        "voting_clf.fit(X_train , y_train)"
      ],
      "metadata": {
        "colab": {
          "base_uri": "https://localhost:8080/"
        },
        "id": "NWPoCRFyyBhf",
        "outputId": "d0c502e5-ed30-4088-e540-86182e87d3ad"
      },
      "execution_count": null,
      "outputs": [
        {
          "output_type": "execute_result",
          "data": {
            "text/plain": [
              "VotingClassifier(estimators=[('linear_clf', LogisticRegression()),\n",
              "                             ('svc', SVC()), ('RF', RandomForestClassifier())])"
            ]
          },
          "metadata": {},
          "execution_count": 28
        }
      ]
    },
    {
      "cell_type": "code",
      "source": [
        "# lets see how the model perform\n",
        "from sklearn.metrics import accuracy_score\n",
        "\n",
        "# get the accuracy score for voting clf\n",
        "voting_clf_preds = voting_clf.predict(X_test)\n",
        "acc_voting_clf = accuracy_score(y_test, voting_clf_preds)\n",
        "print(f'Voting classifier score:: {acc_voting_clf}')\n",
        "\n",
        "\n",
        "# get the accuracy score for all the classifiers\n",
        "for clf in (linear_clf, svc_clf, rf_clf):\n",
        "  clf.fit(X_train, y_train)\n",
        "  clf_preds = clf.predict(X_test)\n",
        "  print(clf.__class__.__name__, accuracy_score(y_test, clf_preds))\n"
      ],
      "metadata": {
        "colab": {
          "base_uri": "https://localhost:8080/"
        },
        "id": "z3uONGdkyM8S",
        "outputId": "1a903848-7699-4233-ce80-62de0a90cb95"
      },
      "execution_count": null,
      "outputs": [
        {
          "output_type": "stream",
          "name": "stdout",
          "text": [
            "Voting classifier score:: 0.905\n",
            "LogisticRegression 0.82\n",
            "SVC 0.915\n",
            "RandomForestClassifier 0.915\n"
          ]
        }
      ]
    },
    {
      "cell_type": "code",
      "source": [
        "## As we can see from above experiment that the ensembl is a strong learning"
      ],
      "metadata": {
        "id": "eK_SvAPOzVRm"
      },
      "execution_count": null,
      "outputs": []
    },
    {
      "cell_type": "markdown",
      "source": [
        "### Bagging and Pasting"
      ],
      "metadata": {
        "id": "U7-kOpu4zjml"
      }
    },
    {
      "cell_type": "code",
      "source": [
        "from sklearn.ensemble import BaggingClassifier\n",
        "from sklearn.tree import DecisionTreeClassifier"
      ],
      "metadata": {
        "id": "lyvCj_3A3OIe"
      },
      "execution_count": null,
      "outputs": []
    },
    {
      "cell_type": "code",
      "source": [
        "bg_clf = BaggingClassifier( base_estimator=DecisionTreeClassifier(), n_estimators=500, bootstrap=True, max_samples=100, n_jobs=-1, oob_score=True)"
      ],
      "metadata": {
        "id": "ucJIH4bp3Z2J"
      },
      "execution_count": null,
      "outputs": []
    },
    {
      "cell_type": "code",
      "source": [
        "bg_clf.fit(X_train, y_train)"
      ],
      "metadata": {
        "colab": {
          "base_uri": "https://localhost:8080/"
        },
        "id": "JqV7TRnn4Uo5",
        "outputId": "208eb488-921b-4c54-fa3c-9883f2e87627"
      },
      "execution_count": null,
      "outputs": [
        {
          "output_type": "execute_result",
          "data": {
            "text/plain": [
              "BaggingClassifier(base_estimator=DecisionTreeClassifier(), max_samples=100,\n",
              "                  n_estimators=500, n_jobs=-1, oob_score=True)"
            ]
          },
          "metadata": {},
          "execution_count": 39
        }
      ]
    },
    {
      "cell_type": "code",
      "source": [
        "bagg_pred = bg_clf.predict(X_test)"
      ],
      "metadata": {
        "id": "6TmfIm_54hhV"
      },
      "execution_count": null,
      "outputs": []
    },
    {
      "cell_type": "code",
      "source": [
        "bagg_accuracy_score = accuracy_score(y_test, bagg_pred)"
      ],
      "metadata": {
        "id": "Xc1lsSXs4n50"
      },
      "execution_count": null,
      "outputs": []
    },
    {
      "cell_type": "code",
      "source": [
        "bagg_accuracy_score"
      ],
      "metadata": {
        "colab": {
          "base_uri": "https://localhost:8080/"
        },
        "id": "vz55J3el4vT3",
        "outputId": "f6fd1d49-3b98-4451-f627-8b7e76730ea3"
      },
      "execution_count": null,
      "outputs": [
        {
          "output_type": "execute_result",
          "data": {
            "text/plain": [
              "0.91"
            ]
          },
          "metadata": {},
          "execution_count": 42
        }
      ]
    },
    {
      "cell_type": "code",
      "source": [
        " bg_clf.oob_score_"
      ],
      "metadata": {
        "colab": {
          "base_uri": "https://localhost:8080/"
        },
        "id": "cPXqa8dX4x4P",
        "outputId": "25ae6b8f-c334-4e71-c3dc-10470783c377"
      },
      "execution_count": null,
      "outputs": [
        {
          "output_type": "execute_result",
          "data": {
            "text/plain": [
              "0.905"
            ]
          },
          "metadata": {},
          "execution_count": 46
        }
      ]
    },
    {
      "cell_type": "markdown",
      "source": [
        "#### Random patches and Random Subspaces\n",
        "* Random patches: \n",
        "\t\tKeeping all the feature but samples the instances\n",
        "* Random subspaces:\n",
        "\t\tKeeping all the instance but sampling the features\n",
        "\t\tMax_features and feature_bootstrap\n",
        "\n",
        "\n"
      ],
      "metadata": {
        "id": "s4oFVZMp6RYp"
      }
    },
    {
      "cell_type": "code",
      "source": [
        "# use random forest instead of using the baggingClassifier and passing the DecisionTreeClassifier cause\n",
        "# it more adaptatble and easy to easy "
      ],
      "metadata": {
        "id": "QwZrfJM0GJzi"
      },
      "execution_count": null,
      "outputs": []
    },
    {
      "cell_type": "code",
      "source": [
        "from sklearn.ensemble import RandomForestClassifier\n"
      ],
      "metadata": {
        "id": "8cB3bZVuH1_m"
      },
      "execution_count": null,
      "outputs": []
    },
    {
      "cell_type": "code",
      "source": [
        "random_forest_clf = RandomForestClassifier( n_estimators=500, bootstrap=True, n_jobs=-1, max_leaf_nodes=16)\n",
        "random_forest_clf.fit(X_train, y_train)"
      ],
      "metadata": {
        "colab": {
          "base_uri": "https://localhost:8080/"
        },
        "id": "DI6opKosH5-I",
        "outputId": "cc93de5d-e391-4c05-fb82-1254f9b0329e"
      },
      "execution_count": null,
      "outputs": [
        {
          "output_type": "execute_result",
          "data": {
            "text/plain": [
              "RandomForestClassifier(max_leaf_nodes=16, n_estimators=500, n_jobs=-1)"
            ]
          },
          "metadata": {},
          "execution_count": 49
        }
      ]
    },
    {
      "cell_type": "code",
      "source": [
        "print( accuracy_score( y_test, random_forest_clf.predict(X_test)))"
      ],
      "metadata": {
        "colab": {
          "base_uri": "https://localhost:8080/"
        },
        "id": "PKVdroPlIPiU",
        "outputId": "d522e3db-35b2-4ff7-8cb8-a1e258d070fd"
      },
      "execution_count": null,
      "outputs": [
        {
          "output_type": "stream",
          "name": "stdout",
          "text": [
            "0.92\n"
          ]
        }
      ]
    },
    {
      "cell_type": "code",
      "source": [
        "random_forest_clf.predict(X_test)"
      ],
      "metadata": {
        "colab": {
          "base_uri": "https://localhost:8080/"
        },
        "id": "N7SJQ3g7IjcL",
        "outputId": "24b00761-85df-4956-ba40-f495c2d9c2cf"
      },
      "execution_count": null,
      "outputs": [
        {
          "output_type": "execute_result",
          "data": {
            "text/plain": [
              "array([1, 0, 1, 0, 1, 1, 0, 0, 1, 0, 0, 1, 0, 1, 0, 1, 1, 0, 1, 0, 0, 0,\n",
              "       1, 0, 0, 1, 0, 0, 0, 1, 1, 0, 1, 1, 0, 1, 0, 1, 1, 1, 1, 1, 1, 0,\n",
              "       0, 1, 0, 0, 1, 1, 0, 0, 0, 0, 1, 0, 1, 1, 1, 0, 1, 0, 0, 1, 1, 1,\n",
              "       1, 0, 0, 0, 1, 0, 0, 1, 0, 1, 1, 1, 0, 0, 0, 1, 0, 1, 1, 1, 0, 0,\n",
              "       0, 0, 1, 1, 1, 1, 1, 0, 1, 1, 0, 1, 0, 0, 1, 1, 0, 0, 1, 0, 0, 1,\n",
              "       1, 1, 0, 1, 1, 0, 1, 0, 1, 0, 1, 0, 0, 1, 1, 0, 1, 1, 0, 1, 1, 1,\n",
              "       1, 0, 0, 0, 1, 0, 0, 1, 0, 0, 0, 0, 0, 0, 1, 0, 1, 0, 1, 0, 1, 0,\n",
              "       1, 1, 1, 0, 0, 1, 0, 1, 1, 0, 1, 0, 1, 0, 0, 1, 0, 0, 0, 0, 0, 0,\n",
              "       0, 1, 1, 0, 0, 1, 0, 1, 1, 0, 0, 1, 1, 1, 0, 1, 0, 0, 1, 0, 1, 0,\n",
              "       1, 0])"
            ]
          },
          "metadata": {},
          "execution_count": 51
        }
      ]
    },
    {
      "cell_type": "code",
      "source": [
        "### Getting the feature importance coefficeint \n"
      ],
      "metadata": {
        "id": "LxVVb1LwIlZ0"
      },
      "execution_count": null,
      "outputs": []
    },
    {
      "cell_type": "code",
      "source": [
        "from sklearn.datasets import load_iris\n",
        "data = load_iris()"
      ],
      "metadata": {
        "id": "m9VvVCaFIpho"
      },
      "execution_count": null,
      "outputs": []
    },
    {
      "cell_type": "code",
      "source": [
        "forest_clf_1 = RandomForestClassifier(n_estimators=100, bootstrap=True, n_jobs=-1, max_leaf_nodes=16)\n",
        "forest_clf_1.fit(data.data, data.target)"
      ],
      "metadata": {
        "colab": {
          "base_uri": "https://localhost:8080/"
        },
        "id": "M63fGLmbMUbU",
        "outputId": "9329cf5a-71a0-4b5b-ade6-b540b5ce4c74"
      },
      "execution_count": null,
      "outputs": [
        {
          "output_type": "execute_result",
          "data": {
            "text/plain": [
              "RandomForestClassifier(max_leaf_nodes=16, n_jobs=-1)"
            ]
          },
          "metadata": {},
          "execution_count": 55
        }
      ]
    },
    {
      "cell_type": "code",
      "source": [
        "for name, i in zip(data.feature_names, forest_clf_1.feature_importances_):\n",
        "  print( f'{name} : {i}')"
      ],
      "metadata": {
        "colab": {
          "base_uri": "https://localhost:8080/"
        },
        "id": "FRETlDDxMny0",
        "outputId": "b36d2e2e-8d4f-4102-c444-7a613d4bdf97"
      },
      "execution_count": null,
      "outputs": [
        {
          "output_type": "stream",
          "name": "stdout",
          "text": [
            "sepal length (cm) : 0.09903118795064708\n",
            "sepal width (cm) : 0.026154008919787225\n",
            "petal length (cm) : 0.4489195378628259\n",
            "petal width (cm) : 0.4258952652667398\n"
          ]
        }
      ]
    },
    {
      "cell_type": "code",
      "source": [],
      "metadata": {
        "id": "1Ae7x1vwMyTT"
      },
      "execution_count": null,
      "outputs": []
    },
    {
      "cell_type": "markdown",
      "source": [
        "### Boosting Techniquenes"
      ],
      "metadata": {
        "id": "fjIiZ4HAVj52"
      }
    },
    {
      "cell_type": "markdown",
      "source": [
        "#### ADA Boost"
      ],
      "metadata": {
        "id": "4-G6sgl4Vs_2"
      }
    },
    {
      "cell_type": "code",
      "source": [
        "\n",
        "from sklearn.ensemble import AdaBoostClassifier"
      ],
      "metadata": {
        "id": "umyhCxQmVwDm"
      },
      "execution_count": null,
      "outputs": []
    },
    {
      "cell_type": "code",
      "source": [
        "from sklearn.datasets import load_iris"
      ],
      "metadata": {
        "id": "s8HCP6RPV1rK"
      },
      "execution_count": null,
      "outputs": []
    },
    {
      "cell_type": "code",
      "source": [
        "X = load_iris().data"
      ],
      "metadata": {
        "id": "iu-qTG2hV78f"
      },
      "execution_count": null,
      "outputs": []
    },
    {
      "cell_type": "code",
      "source": [
        "y = load_iris().target"
      ],
      "metadata": {
        "id": "hZhCpTLWV_92"
      },
      "execution_count": null,
      "outputs": []
    },
    {
      "cell_type": "code",
      "source": [
        "X[:3]"
      ],
      "metadata": {
        "colab": {
          "base_uri": "https://localhost:8080/"
        },
        "id": "dYKYViV-WEgq",
        "outputId": "d6e2f02a-9335-4971-b7d1-f99f58eec792"
      },
      "execution_count": null,
      "outputs": [
        {
          "output_type": "execute_result",
          "data": {
            "text/plain": [
              "array([[5.1, 3.5, 1.4, 0.2],\n",
              "       [4.9, 3. , 1.4, 0.2],\n",
              "       [4.7, 3.2, 1.3, 0.2]])"
            ]
          },
          "metadata": {},
          "execution_count": 65
        }
      ]
    },
    {
      "cell_type": "code",
      "source": [
        "# lets do multicalss classification with ADABOOST\n",
        "X_train , X_test, y_train , y_test = train_test_split(X, y , test_size=0.2, shuffle=True, random_state=42)"
      ],
      "metadata": {
        "id": "0rd8bCZJWHWC"
      },
      "execution_count": null,
      "outputs": []
    },
    {
      "cell_type": "code",
      "source": [
        "ada_clf = AdaBoostClassifier( base_estimator= DecisionTreeClassifier(max_depth=1), n_estimators=100, algorithm=\"SAMME.R\", learning_rate=0.5)"
      ],
      "metadata": {
        "id": "BkLQmkHuWPDi"
      },
      "execution_count": null,
      "outputs": []
    },
    {
      "cell_type": "code",
      "source": [
        "ada_clf.fit(X_train, y_train)"
      ],
      "metadata": {
        "colab": {
          "base_uri": "https://localhost:8080/"
        },
        "id": "T9j0Vv7jWqqp",
        "outputId": "516ad91e-a02a-4135-8fd1-fecf8eb9a175"
      },
      "execution_count": null,
      "outputs": [
        {
          "output_type": "execute_result",
          "data": {
            "text/plain": [
              "AdaBoostClassifier(base_estimator=DecisionTreeClassifier(max_depth=1),\n",
              "                   learning_rate=0.5, n_estimators=100)"
            ]
          },
          "metadata": {},
          "execution_count": 75
        }
      ]
    },
    {
      "cell_type": "code",
      "source": [
        "ada_preds = ada_clf.predict(X_test)"
      ],
      "metadata": {
        "id": "6mF8dYMrXN_R"
      },
      "execution_count": null,
      "outputs": []
    },
    {
      "cell_type": "code",
      "source": [
        "ada_preds[:5]"
      ],
      "metadata": {
        "colab": {
          "base_uri": "https://localhost:8080/"
        },
        "id": "F65vSjQ4XR8Z",
        "outputId": "b33db3de-f3ae-41bb-ec0b-0db8b5074137"
      },
      "execution_count": null,
      "outputs": [
        {
          "output_type": "execute_result",
          "data": {
            "text/plain": [
              "array([1, 0, 2, 1, 1])"
            ]
          },
          "metadata": {},
          "execution_count": 77
        }
      ]
    },
    {
      "cell_type": "code",
      "source": [
        "ada_preds_prob = ada_clf.predict_proba(X_test)"
      ],
      "metadata": {
        "id": "DGms25HcXTwV"
      },
      "execution_count": null,
      "outputs": []
    },
    {
      "cell_type": "code",
      "source": [
        "ada_preds_prob[:3]"
      ],
      "metadata": {
        "colab": {
          "base_uri": "https://localhost:8080/"
        },
        "id": "9Wqj1solXXu8",
        "outputId": "9cf3aa5c-bcfc-4c27-87e8-218592c66c0d"
      },
      "execution_count": null,
      "outputs": [
        {
          "output_type": "execute_result",
          "data": {
            "text/plain": [
              "array([[3.58286327e-08, 9.96705465e-01, 3.29449929e-03],\n",
              "       [9.99925395e-01, 7.36701285e-05, 9.34870143e-07],\n",
              "       [8.62846384e-16, 4.48501129e-03, 9.95514989e-01]])"
            ]
          },
          "metadata": {},
          "execution_count": 80
        }
      ]
    },
    {
      "cell_type": "code",
      "source": [],
      "metadata": {
        "id": "OkrEWVFzXY49"
      },
      "execution_count": null,
      "outputs": []
    },
    {
      "cell_type": "markdown",
      "source": [
        "\n",
        "#### Gradient Boosting ( GBRT ) \n",
        "We can achieve this by using the base estimater and then fit it on the data and then predict the outcomes to get residual\n",
        "them train another predictor on residual and repeat the same process till we either use all the predictors or expected results\n",
        "\n",
        "\n",
        "Good alternate is GradinetBoostRegressor"
      ],
      "metadata": {
        "id": "3ocwlp9aZxut"
      }
    },
    {
      "cell_type": "code",
      "source": [
        "from sklearn.ensemble import GradientBoostingRegressor"
      ],
      "metadata": {
        "id": "K1vzo6URah4-"
      },
      "execution_count": null,
      "outputs": []
    },
    {
      "cell_type": "code",
      "source": [
        "grad_regressor = GradientBoostingRegressor( max_depth=2, n_estimators=3, learning_rate=1.0)\n"
      ],
      "metadata": {
        "id": "b_Ur1VQWauCC"
      },
      "execution_count": null,
      "outputs": []
    },
    {
      "cell_type": "markdown",
      "source": [
        "### Predicting the MNIST using Ensembles"
      ],
      "metadata": {
        "id": "JdxJYBOgA6Kv"
      }
    },
    {
      "cell_type": "code",
      "source": [
        "from sklearn.datasets import load_digits"
      ],
      "metadata": {
        "id": "c2onFbu9BxE-"
      },
      "execution_count": 3,
      "outputs": []
    },
    {
      "cell_type": "code",
      "source": [
        "data = load_digits()"
      ],
      "metadata": {
        "id": "gzCeVQJ4Dufk"
      },
      "execution_count": 4,
      "outputs": []
    },
    {
      "cell_type": "code",
      "source": [
        "data.keys()"
      ],
      "metadata": {
        "colab": {
          "base_uri": "https://localhost:8080/"
        },
        "id": "j1INCoFsEJkg",
        "outputId": "dd7db5b8-dc81-4aee-abe4-69e0055378da"
      },
      "execution_count": 5,
      "outputs": [
        {
          "output_type": "execute_result",
          "data": {
            "text/plain": [
              "dict_keys(['data', 'target', 'frame', 'feature_names', 'target_names', 'images', 'DESCR'])"
            ]
          },
          "metadata": {},
          "execution_count": 5
        }
      ]
    },
    {
      "cell_type": "code",
      "source": [
        "X = data.data\n",
        "y = data.target "
      ],
      "metadata": {
        "id": "7I-GXmfZEK2e"
      },
      "execution_count": 6,
      "outputs": []
    },
    {
      "cell_type": "code",
      "source": [
        "import matplotlib.pyplot as plt"
      ],
      "metadata": {
        "id": "ZyAnY04oES2b"
      },
      "execution_count": 7,
      "outputs": []
    },
    {
      "cell_type": "code",
      "source": [
        "import numpy as np\n",
        "import random"
      ],
      "metadata": {
        "id": "46YutBvlEVWY"
      },
      "execution_count": 8,
      "outputs": []
    },
    {
      "cell_type": "code",
      "source": [
        "len(X)"
      ],
      "metadata": {
        "colab": {
          "base_uri": "https://localhost:8080/"
        },
        "id": "QlCXPaa-FSCq",
        "outputId": "eacd7ca5-5767-48eb-fa7a-14f3161dfc64"
      },
      "execution_count": 9,
      "outputs": [
        {
          "output_type": "execute_result",
          "data": {
            "text/plain": [
              "1797"
            ]
          },
          "metadata": {},
          "execution_count": 9
        }
      ]
    },
    {
      "cell_type": "code",
      "source": [
        "# get mnist with more values\n",
        "from sklearn import datasets\n",
        "X, y = datasets.fetch_openml(name='mnist_784', return_X_y=True)"
      ],
      "metadata": {
        "id": "yiCzKzK-RD4m"
      },
      "execution_count": 10,
      "outputs": []
    },
    {
      "cell_type": "code",
      "source": [
        "len(X), len(y)"
      ],
      "metadata": {
        "colab": {
          "base_uri": "https://localhost:8080/"
        },
        "id": "AJzpmJpXRvgi",
        "outputId": "4d3e1bf0-f22f-4590-cf28-870bcd3d157d"
      },
      "execution_count": 11,
      "outputs": [
        {
          "output_type": "execute_result",
          "data": {
            "text/plain": [
              "(70000, 70000)"
            ]
          },
          "metadata": {},
          "execution_count": 11
        }
      ]
    },
    {
      "cell_type": "code",
      "source": [
        "X.shape"
      ],
      "metadata": {
        "colab": {
          "base_uri": "https://localhost:8080/"
        },
        "id": "9gp9SRepRz1I",
        "outputId": "f07b7a3c-6fba-49d5-ab47-42dec8d47bed"
      },
      "execution_count": 12,
      "outputs": [
        {
          "output_type": "execute_result",
          "data": {
            "text/plain": [
              "(70000, 784)"
            ]
          },
          "metadata": {},
          "execution_count": 12
        }
      ]
    },
    {
      "cell_type": "code",
      "source": [
        "\n",
        "random_indices = np.random.permutation(X.shape[0])\n",
        "\n"
      ],
      "metadata": {
        "id": "4DExrGPfR2c9"
      },
      "execution_count": 13,
      "outputs": []
    },
    {
      "cell_type": "code",
      "source": [
        "X = X.iloc[random_indices]\n",
        "y = y[random_indices]"
      ],
      "metadata": {
        "id": "BPU1SPOmTdLb"
      },
      "execution_count": 14,
      "outputs": []
    },
    {
      "cell_type": "code",
      "source": [
        "# split the data \n",
        "X_train , X_test = X.iloc[:50000], X.iloc[50000:]\n",
        "y_train, y_test = y[:50000], y[50000:]"
      ],
      "metadata": {
        "id": "T4qEEWaSUD3Q"
      },
      "execution_count": 15,
      "outputs": []
    },
    {
      "cell_type": "code",
      "source": [
        "len(X_train), len(y_train), len(X_test), len(y_test)"
      ],
      "metadata": {
        "colab": {
          "base_uri": "https://localhost:8080/"
        },
        "id": "4E4Te6pBUE6T",
        "outputId": "976ac509-9fda-465e-d020-91653ef839fd"
      },
      "execution_count": 16,
      "outputs": [
        {
          "output_type": "execute_result",
          "data": {
            "text/plain": [
              "(50000, 50000, 20000, 20000)"
            ]
          },
          "metadata": {},
          "execution_count": 16
        }
      ]
    },
    {
      "cell_type": "code",
      "source": [
        "min(X_train.iloc[0]), max(X_train.iloc[0])"
      ],
      "metadata": {
        "colab": {
          "base_uri": "https://localhost:8080/"
        },
        "id": "jUwAcBajUE8_",
        "outputId": "3c4b145c-709a-4d0f-a476-76228157bc75"
      },
      "execution_count": 17,
      "outputs": [
        {
          "output_type": "execute_result",
          "data": {
            "text/plain": [
              "(0.0, 255.0)"
            ]
          },
          "metadata": {},
          "execution_count": 17
        }
      ]
    },
    {
      "cell_type": "code",
      "source": [
        "# lets standardize the data\n",
        "X_train = X_train/255.0\n",
        "X_test = X_test/255.\n"
      ],
      "metadata": {
        "id": "oEJtJuVBUE_m"
      },
      "execution_count": 18,
      "outputs": []
    },
    {
      "cell_type": "code",
      "source": [],
      "metadata": {
        "id": "0IDOJzASUFBy"
      },
      "execution_count": 18,
      "outputs": []
    },
    {
      "cell_type": "code",
      "source": [
        "#lets plot some images from the dataset\n",
        "plt.figure(figsize=(10,7))\n",
        "\n",
        "for i in range(5):\n",
        "  rand_indx = random.choice(np.arange((50000)))\n",
        "  plt.subplot(1, 5, i+1)\n",
        "  plt.imshow(X_train.iloc[rand_indx].to_numpy().reshape(28,28), cmap='binary')\n",
        "  plt.grid(True)\n",
        "  plt.axis(False)\n",
        "  plt.title(f'{y[rand_indx]}')\n",
        "\n",
        "plt.show()\n"
      ],
      "metadata": {
        "colab": {
          "base_uri": "https://localhost:8080/",
          "height": 143
        },
        "id": "XdIgujYmExVf",
        "outputId": "43e913e4-4da1-465f-83e4-eab86d668101"
      },
      "execution_count": 19,
      "outputs": [
        {
          "output_type": "display_data",
          "data": {
            "text/plain": [
              "<Figure size 720x504 with 5 Axes>"
            ],
            "image/png": "[encoded data removed]"
          },
          "metadata": {
            "needs_background": "light"
          }
        }
      ]
    },
    {
      "cell_type": "code",
      "source": [
        "# lets just convetrt the data in to numpy array\n",
        "X_train = X_train.to_numpy()\n",
        "X_test = X_test.to_numpy()"
      ],
      "metadata": {
        "id": "6MBzFijeTcHY"
      },
      "execution_count": 20,
      "outputs": []
    },
    {
      "cell_type": "code",
      "source": [
        "y_train = y_train.to_numpy()\n",
        "y_test = y_test.to_numpy()"
      ],
      "metadata": {
        "id": "enGu6O-1FNaP"
      },
      "execution_count": 21,
      "outputs": []
    },
    {
      "cell_type": "markdown",
      "source": [
        "#### Experiments\n",
        "  * Random Forest \n",
        "  * Extra -Trees\n",
        "  * SVM"
      ],
      "metadata": {
        "id": "6IR3zwoRQo90"
      }
    },
    {
      "cell_type": "code",
      "source": [
        "from sklearn.ensemble import RandomForestClassifier\n",
        "from sklearn.ensemble import ExtraTreesClassifier\n",
        "from sklearn.svm import SVC\n",
        "from sklearn.metrics import accuracy_score"
      ],
      "metadata": {
        "id": "BGb8umemVhyl"
      },
      "execution_count": 22,
      "outputs": []
    },
    {
      "cell_type": "code",
      "source": [],
      "metadata": {
        "colab": {
          "base_uri": "https://localhost:8080/"
        },
        "id": "E5MpyDhJXdDq",
        "outputId": "7ab71fbe-0d59-435b-e2d6-dfc8c4d07970"
      },
      "execution_count": 26,
      "outputs": [
        {
          "output_type": "execute_result",
          "data": {
            "text/plain": [
              "25000.0"
            ]
          },
          "metadata": {},
          "execution_count": 26
        }
      ]
    },
    {
      "cell_type": "code",
      "source": [
        "random_forest = RandomForestClassifier( n_estimators=20, bootstrap=True, n_jobs=-1, max_features=\"auto\")\n",
        "random_forest.fit(X_train[:int(len(X_train)/2)], y_train[:int(len(X_train)/2)]) \n",
        "# limiting the data and n_estimators to a lower numbers as I dont have the compute power\n"
      ],
      "metadata": {
        "colab": {
          "base_uri": "https://localhost:8080/"
        },
        "id": "BHGSYHG3Vy3R",
        "outputId": "01123a21-e7b7-494e-d5b3-e4b3bb4e5114"
      },
      "execution_count": 27,
      "outputs": [
        {
          "output_type": "execute_result",
          "data": {
            "text/plain": [
              "RandomForestClassifier(n_estimators=20, n_jobs=-1)"
            ]
          },
          "metadata": {},
          "execution_count": 27
        }
      ]
    },
    {
      "cell_type": "code",
      "source": [
        "xtra_clf = ExtraTreesClassifier( n_estimators=20, bootstrap=True, n_jobs=-1)\n",
        "xtra_clf.fit(X_train[:int(len(X_train)/2)], y_train[:int(len(X_train)/2)])"
      ],
      "metadata": {
        "colab": {
          "base_uri": "https://localhost:8080/"
        },
        "id": "LAo64BydWNtP",
        "outputId": "b0a41369-3cbf-40c2-d81e-35d722afd6a1"
      },
      "execution_count": 28,
      "outputs": [
        {
          "output_type": "execute_result",
          "data": {
            "text/plain": [
              "ExtraTreesClassifier(bootstrap=True, n_estimators=20, n_jobs=-1)"
            ]
          },
          "metadata": {},
          "execution_count": 28
        }
      ]
    },
    {
      "cell_type": "code",
      "source": [
        "svc_clf = SVC(probability=True)\n",
        "svc_clf.fit(X_train[:int(len(X_train)/10)], y_train[:int(len(X_train)/10)])"
      ],
      "metadata": {
        "colab": {
          "base_uri": "https://localhost:8080/"
        },
        "id": "tK4S3KfHWqY2",
        "outputId": "a9823937-1917-4f90-85f7-8b89f4ce8385"
      },
      "execution_count": 30,
      "outputs": [
        {
          "output_type": "execute_result",
          "data": {
            "text/plain": [
              "SVC(probability=True)"
            ]
          },
          "metadata": {},
          "execution_count": 30
        }
      ]
    },
    {
      "cell_type": "code",
      "source": [
        "# lets predict with all the models, and use test as the validation set\n",
        "\n",
        "preds_forest = random_forest.predict(X_test)\n",
        "preds_xtra = xtra_clf.predict(X_test)\n",
        "preds_svc = svc_clf.predict(X_test)"
      ],
      "metadata": {
        "id": "tTvt5KpRW3bQ"
      },
      "execution_count": 31,
      "outputs": []
    },
    {
      "cell_type": "code",
      "source": [
        "# lets caluculate the accuracy for all the models\n",
        "acc_forest = accuracy_score(preds_forest, y_test)\n",
        "acc_xtra = accuracy_score(preds_xtra, y_test)\n",
        "acc_svc = accuracy_score(preds_svc, y_test)"
      ],
      "metadata": {
        "id": "Vyu1h8slZwF0"
      },
      "execution_count": 36,
      "outputs": []
    },
    {
      "cell_type": "code",
      "source": [
        "acc_forest, acc_xtra, acc_svc"
      ],
      "metadata": {
        "colab": {
          "base_uri": "https://localhost:8080/"
        },
        "id": "CRW4qE1EaTHB",
        "outputId": "fdc320b3-09c5-440f-88e3-54e8aafa67cb"
      },
      "execution_count": 37,
      "outputs": [
        {
          "output_type": "execute_result",
          "data": {
            "text/plain": [
              "(0.94875, 0.9464, 0.9515)"
            ]
          },
          "metadata": {},
          "execution_count": 37
        }
      ]
    },
    {
      "cell_type": "code",
      "source": [
        "## as we can see SVC did best on the unseen data"
      ],
      "metadata": {
        "id": "J-2xbmQqaWeF"
      },
      "execution_count": 38,
      "outputs": []
    },
    {
      "cell_type": "code",
      "source": [
        "# lest combine all the models and predict "
      ],
      "metadata": {
        "id": "sVY8rYkEabue"
      },
      "execution_count": 39,
      "outputs": []
    },
    {
      "cell_type": "code",
      "source": [
        "from sklearn.ensemble import VotingClassifier"
      ],
      "metadata": {
        "id": "e8Ky3eaTaf6R"
      },
      "execution_count": 40,
      "outputs": []
    },
    {
      "cell_type": "code",
      "source": [
        "forest_clf = RandomForestClassifier( n_estimators=20, bootstrap=True, n_jobs=-1, max_features=\"auto\")\n",
        "xtra_clf = ExtraTreesClassifier( n_estimators=20, bootstrap=True, n_jobs=-1)\n",
        "svc_clf = SVC(probability=True)\n",
        "\n",
        "vote_clf = VotingClassifier([('forest_clf', forest_clf), ('xtra_clf', xtra_clf), ('svc_clf', svc_clf)])\n",
        "\n",
        "vote_clf.fit(X_train[:int(len(X_train)/10)], y_train[:int(len(X_train)/10)])\n",
        "\n",
        "preds_ensemble = vote_clf.predict(X_test)\n",
        "\n",
        "acc_ensemble = accuracy_score(y_test, preds_ensemble)\n",
        "acc_ensemble"
      ],
      "metadata": {
        "colab": {
          "base_uri": "https://localhost:8080/"
        },
        "id": "JRpJYragajZo",
        "outputId": "e3cdff91-f2c2-4569-f60a-e659cc28c662"
      },
      "execution_count": 41,
      "outputs": [
        {
          "output_type": "execute_result",
          "data": {
            "text/plain": [
              "0.93885"
            ]
          },
          "metadata": {},
          "execution_count": 41
        }
      ]
    },
    {
      "cell_type": "code",
      "source": [
        "## lets do stacking with the predictions from all three predictiors with hold-out dataset as test data\n",
        "new_data = np.c_[preds_forest, preds_xtra, preds_svc]"
      ],
      "metadata": {
        "id": "eZAvx7QnbQEH"
      },
      "execution_count": 46,
      "outputs": []
    },
    {
      "cell_type": "code",
      "source": [
        "preds_forest.shape, preds_xtra.shape, preds_svc.shape"
      ],
      "metadata": {
        "colab": {
          "base_uri": "https://localhost:8080/"
        },
        "id": "kb55-dBTcmvq",
        "outputId": "07163427-0cda-4c5e-88c9-502eacf90d5b"
      },
      "execution_count": 43,
      "outputs": [
        {
          "output_type": "execute_result",
          "data": {
            "text/plain": [
              "((20000,), (20000,), (20000,))"
            ]
          },
          "metadata": {},
          "execution_count": 43
        }
      ]
    },
    {
      "cell_type": "code",
      "source": [
        "# use the blender on the new dataset with old labels\n",
        "rfc_ = RandomForestClassifier(n_estimators=10)\n",
        "rfc_.fit(new_data, y_test)"
      ],
      "metadata": {
        "colab": {
          "base_uri": "https://localhost:8080/"
        },
        "id": "U9UenwXLcvnf",
        "outputId": "19c76370-f5f6-4a75-9f06-ca8bb2730397"
      },
      "execution_count": 50,
      "outputs": [
        {
          "output_type": "execute_result",
          "data": {
            "text/plain": [
              "RandomForestClassifier(n_estimators=10)"
            ]
          },
          "metadata": {},
          "execution_count": 50
        }
      ]
    },
    {
      "cell_type": "code",
      "source": [],
      "metadata": {
        "id": "bxgE0vOFc2Kj"
      },
      "execution_count": null,
      "outputs": []
    }
  ]
}